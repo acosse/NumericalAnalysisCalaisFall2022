{
 "cells": [
  {
   "cell_type": "markdown",
   "metadata": {},
   "source": [
    "<center><h1>Numerical Analysis</h1><br><h3>Exercise Session 1: Introduction to Julia, Solutions of linear systems<h3></center>\n"
   ]
  },
  {
   "cell_type": "markdown",
   "metadata": {},
   "source": [
    "__Exercise 1.__\n",
    "\n",
    "Consider the function below. Compute the value $f(2, 3)$ by hand. Then write a Julia function that returns $f(x, n)$ for everyvalue of $x$ and $n$. Check that your function returns the correct value of $f(2, 3)$\n",
    "$$f(x, n) = \\sum_{i=1}^n \\prod_{j=1}^i x^{n-j+1}$$"
   ]
  },
  {
   "cell_type": "code",
   "execution_count": null,
   "metadata": {},
   "outputs": [],
   "source": []
  },
  {
   "cell_type": "markdown",
   "metadata": {},
   "source": [
    "__Exercise 2 (Boyd and Vandenberghe)__\n",
    "\n",
    "We consider a time invariant linear dynamical system with $n$ vector state $x_t$ and $m$-vector input $u_t$, with dynamics\n",
    "$$x_{t+1} = Ax_t + Bu_t, \\quad t=1, 2,\\ldots $$\n",
    "\n",
    "The entries of the state often represent deviations of quantities from their desired values, so $x_t\\approx 0$ is a goal in operation of the system. The entries of the input $u_t$ are deviations from the standard or nominal values. For example, in an aircraft model, the states might be the deviation from the desired altitude, climb rate, speed, and angle of attack; the input $u_t$ represents changes in the control surface angles or engine thrust from their normal values.\n",
    "\n",
    "\n",
    "In state feedback control, the states are measured and the input is a linear function of the state $u_t = Kx_t$. The $m\\times n$ matrix $K$ is called the _state feedback gain matrix_. The state feedback gain matrix is very carefully designed, using several methods. State feedback control is very widely used in many application areas (including, for example, control of the airplanes)\n",
    "\n",
    "\n",
    "\n",
    "- _Open and closed-loop dynamical system._ With $u_t = 0$, the system satisfies $x_{t+1} = Ax_t$ for $t=1,2,\\ldots$ which is called the _open-loop dynamics_. When $u_t = Kx_t$, the system dynamics can be expressed as $x_{t+1} = \\tilde{A}x_t$, for $t=1,2, \\ldots$ where the $n\\times n$ matrix $\\tilde{A}$ is the _closed-loop dynamics matrix_. Find an expression for $\\tilde{A}$ in terms of $A, B$ and $K$ \n",
    "\n",
    "\n",
    "- _Aircraft control_ The longitudinal dynamics of a 747 flying at $40000$ ft at Mach $0.81$ is given by \n",
    "\\begin{align*}\n",
    "A = \\left[\\begin{array}{cccc}\n",
    ".99 & .03 & -.02 & -.32\\\\\n",
    ".01 & .47 & 4.7 & .00\\\\\n",
    ".02 & -.06 & .40 & -.00\\\\\n",
    ".01 & -.04 & .72 & .99\n",
    "\\end{array}\\right], \\quad B = \\left[\\begin{array}{cc}\n",
    "0.01 & 0.99\\\\\n",
    "-3.44 & 1.66\\\\\n",
    "-0.83 & 0.44\\\\\n",
    "-0.47 & 0.25\n",
    "\\end{array}\\right]\n",
    "\\end{align*}\n",
    "\n",
    "where the sampling time is one second. We further use the state feedback matrix \n",
    "\\begin{align*}\n",
    "K = \\left[\\begin{array}{cccc}\n",
    "-.038 & .021 & .319 & -.270\\\\\n",
    "-.061 & -.004 & -.120 & .007\n",
    "\\end{array}\\right]\n",
    "\\end{align*}\n",
    "\n",
    "Plot the open-loop and closed-loop state trajectories from several nonzero initial states such as $x_1 = (1,0,0,0)$ or ones that are randomly generated, from $t = 1$ to $t=100$. In other words, plot $(x_t)_i$ versus $t$. Would you rather be in the plane with the state feedback control turned off (i.e. open-loop) or on (close loop)?"
   ]
  },
  {
   "cell_type": "code",
   "execution_count": null,
   "metadata": {},
   "outputs": [],
   "source": []
  },
  {
   "cell_type": "markdown",
   "metadata": {},
   "source": [
    "__Exercise 3__\n",
    "\n",
    "We let $\\text{proj}_u(v)$ to denote the orthogonal projection of the vector $v$ onto $u$. Such a projection can be computed as \n",
    "\\begin{align*}\n",
    "\\text{proj}_{\\mathbf{u}}(\\mathbf{v}) = \\frac{(\\mathbf{u}^T \\mathbf{v})}{(\\mathbf{u}^T\\mathbf{u})}\\mathbf{u}\n",
    "\\end{align*}\n",
    "\n",
    "For an original set of vectors $u_1, u_2, \\ldots u_n$, the Gram-Schmidt process returns the corresponding collection of orthonormalized vectors by means of the following steps\n",
    "\n",
    "\\begin{align*}\n",
    "\\mathbf{u}_1& = \\mathbf{v}_1\\\\\n",
    "\\mathbf{u}_2& = \\mathbf{v}_2 - \\text{proj}_{\\mathbf{u}_1}(\\mathbf{v}_2)\\\\\n",
    "\\mathbf{u}_3& = \\mathbf{v}_3 - \\text{proj}_{\\mathbf{u_1}}(\\mathbf{v}_3) - \\text{proj}_{\\mathbf{u}_2}(\\mathbf{v}_3)\\\\\n",
    "&\\;  \\vdots\\\\\n",
    "\\mathbf{u}_k& = \\mathbf{v}_k - \\sum_{j=1}^{k-1} \\text{proj}_{\\mathbf{u}_j} (\\mathbf{v}_k)\n",
    "\\end{align*}\n",
    "\n",
    "Code this procedure in Julia.\n",
    "\n",
    "\n",
    "\n",
    "\n",
    "\n",
    "\n",
    "\n",
    "\n",
    "\n"
   ]
  },
  {
   "cell_type": "code",
   "execution_count": null,
   "metadata": {},
   "outputs": [],
   "source": []
  },
  {
   "cell_type": "markdown",
   "metadata": {},
   "source": [
    "__Exercise 4__\n",
    "\n",
    "A Toepliz matrix is a matrix of the form\n",
    "\n",
    "\\begin{align*}\n",
    "T = \\left[\\begin{array}{cccccc}\n",
    "a_0 & a_{-1}& a_{-2} &\\ldots & \\ldots & a_{-(n-1)}\\\\\n",
    "a_1 & a_0 & a_{-1} & \\ddots & & \\vdots\\\\\n",
    "a_2 & a_1 & \\ddots & \\ddots & \\ddots & \\vdots\\\\\n",
    "\\vdots & \\ddots & \\ddots & \\ddots & a_{-1} & a_{-2}\\\\\n",
    "\\vdots & & \\ddots & a_1 & a_0 & a_{-1}\\\\\n",
    "a_{n-1}& \\ldots & \\ldots & a_2 & a_1 & a_0\n",
    "\\end{array}\\right]\n",
    "\\end{align*}\n",
    "\n",
    "That is the diagonals in $T$ are constant. Write a function Toeplitz that takes as input a vector of size $2n+1$ and returns the corresponding Toeplitz matrix $T(v)$. "
   ]
  },
  {
   "cell_type": "markdown",
   "metadata": {},
   "source": [
    "__Exercise 5 Gaussian Elimination__ \n"
   ]
  },
  {
   "cell_type": "markdown",
   "metadata": {},
   "source": [
    "__5a__ As a warmup, we consider the simple linear system\n",
    "\n",
    "\\begin{align*}A = \\left(\\begin{array}{ccc}\n",
    "1& 3& 1\\\\\n",
    "1& 11 & -1\\\\\n",
    "3 & 11 & 6\n",
    "\\end{array}\\right), \\quad b= \\left(\\begin{array}{c}\n",
    "9\\\\\n",
    "1\\\\\n",
    "35\n",
    "\\end{array}\\right)\n",
    "\\end{align*}\n",
    "\n",
    "In order to reduce the system to a triangular form, we consider the three simples steps\n",
    "\n",
    "\\begin{align*}\n",
    "\\left[\\begin{array}{ccc|c}\n",
    "1 & 3 & 1 & 9\\\\\n",
    "1 & 1 &-1 & 1\\\\\n",
    "3 &. 11 & 6 & 35\\end{array}\\right]\\rightarrow \\left[\\begin{array}{ccc|c}\n",
    "1 & 3 & 1 & 9\\\\\n",
    "0& -2 & -2 & -8\\\\\n",
    "0 &2 & 3 & 8\\end{array}\n",
    "\\right] \\rightarrow \\left[\\begin{array}{ccc|c}\n",
    "1 & 3 & 1 & 9\\\\\n",
    "0 & -2 & -2 & -8\\\\\n",
    "0&0& 1& 0\n",
    "\\end{array}\\right]\n",
    "\\end{align*}\n",
    "\n",
    "Start by coding those steps below"
   ]
  },
  {
   "cell_type": "code",
   "execution_count": null,
   "metadata": {},
   "outputs": [],
   "source": []
  },
  {
   "cell_type": "markdown",
   "metadata": {},
   "source": [
    "\n",
    "__5b. Forward Elimination__ Recall that for a linear system $Ax = b$, the Forward Elimination step can be coded as\n",
    "\n",
    "\\begin{align*}\n",
    "&\\text{For $m = 1, \\ldots , n-1$ do}\\\\\n",
    "&\\\\\n",
    "&\\quad \\text{for $j=m+1,\\ldots, n$ do}\\\\\n",
    "& \\\\\n",
    "&\\quad \\quad \\text{for $k=m+1,\\ldots, n$ do $a_{jk} = a_{jk - \\frac{a_{jm}a_{mk}}{a_{mm}}}$}\\\\\n",
    "&\\quad \\quad b_{j} = b_j - \\frac{a_{jm}b_m}{a_{mm}}\n",
    "\\end{align*}\n",
    "\n",
    "Code this forward step below and apply it to a general $n\\times n$ matrix generated randomly."
   ]
  },
  {
   "cell_type": "code",
   "execution_count": null,
   "metadata": {},
   "outputs": [],
   "source": []
  },
  {
   "cell_type": "markdown",
   "metadata": {},
   "source": [
    "__5c Backward Substitution__ We now want to code the Backward substitution step. Recall that this step is given by\n",
    "\n",
    "\\begin{align*}\n",
    "&\\text{For $m=n, n-1, \\ldots, 1$ do $x_m = b_m$}\\\\\n",
    "&\\quad \\text{For $k=m+1, \\ldots, n$ do $x_m = x_m - a_{mk}x_k$}\\\\\n",
    "&\\quad x_m = \\frac{x_m}{a_{mm}}\n",
    "\\end{align*}\n",
    "\n",
    "Implement this second step in Julia. "
   ]
  },
  {
   "cell_type": "code",
   "execution_count": null,
   "metadata": {},
   "outputs": [],
   "source": []
  },
  {
   "cell_type": "markdown",
   "metadata": {},
   "source": [
    "__5c Gaussian Elimination from scratch__ Combine the Forward Elimination and Backward Substitution steps that you coded above in a single _Gaussian_Elimination_ function that takes a matrix $A$ and a right-hand side $b$ and returns the solution of the linear system $Ax = b$. Apply your function to a randomly generated matrix $A$ and vector $b$."
   ]
  },
  {
   "cell_type": "code",
   "execution_count": null,
   "metadata": {},
   "outputs": [],
   "source": []
  },
  {
   "cell_type": "markdown",
   "metadata": {},
   "source": [
    "__Exercise 6 Iterative Solutions__\n",
    "\n",
    "\n",
    "__6a Jacobi and Gauss-Seidel__ Recall that the Jacobi and Gauss Seidel methods can be defined based on the decomposition of the linear system $Ax = b$ into the matrices $A = D + A_L + A_R$ where $D = \\text{diag}(a_{11}, \\ldots, a_{nn})$, \n",
    "\n",
    "\\begin{align*}\n",
    "A_L = \\left[\\begin{array}{cccccc}\n",
    "0& & && & \\\\\n",
    "a_{21}& 0 & & & & \\\\\n",
    "a_{31}& a_{32}& 0 & & & \\\\\n",
    "\\vdots & \\vdots & & & & \\\\\n",
    "a_{n1}& a_{n2}& \\ldots & a_{n,n-1}& 0\n",
    "\\end{array}\\right]\n",
    "\\end{align*}\n",
    "\n",
    "\\begin{align*}\n",
    "A_R = \\left[\\begin{array}{cccccc}\n",
    "0& a_{12}& a_{13}& \\ldots& &a_{1n} \\\\\n",
    "& 0 & a_{23} & \\ldots& & a_{2n}\\\\\n",
    "& & & & &\\vdots  \\\\\n",
    " &  & & &0 & a_{n-1, n} \\\\\n",
    "& &  & & &0\n",
    "\\end{array}\\right]\n",
    "\\end{align*}\n",
    "\n",
    "In the method attributed to Jacobi, the iterates are then defined as\n",
    "\n",
    "\\begin{align*}\n",
    "\\mathbf{x}^{(k+1)} = -D^{-1}(A_L + A_R)\\mathbf{x}^{(k)} + D^{-1}\\mathbf{b}\n",
    "\\end{align*}\n",
    "\n",
    "\n",
    "While for the Gauss-Seidel method, the iterates are defined as\n",
    "\n",
    "\\begin{align*}\n",
    "\\mathbf{x}^{(k+1)} = -(D + A_L)^{-1}A_R \\mathbf{x}^{(k)} + (D+A_L)^{-1}\\mathbf{b}\n",
    "\\end{align*}\n",
    "\n",
    "\n",
    "Complete the functions 'Jacobi' and 'Gauss_Seidel' below so that they return the solution of the linear system $Ax = b$ "
   ]
  },
  {
   "cell_type": "code",
   "execution_count": null,
   "metadata": {},
   "outputs": [],
   "source": [
    "function Jacobi(A, b)\n",
    "    \n",
    "    #= The function should return the solution \n",
    "    of the linear system Ax = b using Jacobi iterations =#\n",
    "    \n",
    "    \n",
    "    return x"
   ]
  },
  {
   "cell_type": "code",
   "execution_count": null,
   "metadata": {},
   "outputs": [],
   "source": [
    "function Gauss_Seidel(A, b)\n",
    "    \n",
    "    #= The function should return the solution \n",
    "    of the linear system Ax = b using Gauss-Seidel iterations =#\n",
    "    \n",
    "    \n",
    "    return x"
   ]
  },
  {
   "cell_type": "markdown",
   "metadata": {},
   "source": [
    "__6b Direct Methods vs Iterative Methods__\n",
    "\n",
    "Complete the function 'checkRank' below which takes as input a square matrix $A$ and return true if this matrix is full rank. Generate a couple of square matrices with random (normally distributed) entries. Make sure those matrices are full rank. Then compare the output of your Gaussian Elimination, Jacobi and Gauss-Seidel algorithms on the systems obtained from those matrices and a random Right-hand side.\n"
   ]
  },
  {
   "cell_type": "code",
   "execution_count": null,
   "metadata": {},
   "outputs": [],
   "source": [
    "function checkRank(A)\n",
    "    \n",
    "    #= Returns true if the square matrix A is full rank =#\n",
    "    \n",
    "    \n",
    "    return x"
   ]
  }
 ],
 "metadata": {
  "kernelspec": {
   "display_name": "Julia 1.6.3",
   "language": "julia",
   "name": "julia-1.6"
  },
  "language_info": {
   "file_extension": ".jl",
   "mimetype": "application/julia",
   "name": "julia",
   "version": "1.6.3"
  }
 },
 "nbformat": 4,
 "nbformat_minor": 4
}
